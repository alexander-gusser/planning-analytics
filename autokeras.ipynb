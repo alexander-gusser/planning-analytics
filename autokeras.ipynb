{
 "metadata": {
  "language_info": {
   "codemirror_mode": {
    "name": "ipython",
    "version": 3
   },
   "file_extension": ".py",
   "mimetype": "text/x-python",
   "name": "python",
   "nbconvert_exporter": "python",
   "pygments_lexer": "ipython3",
   "version": "3.8.2-final"
  },
  "orig_nbformat": 2,
  "kernelspec": {
   "name": "python_defaultSpec_1597931607663",
   "display_name": "Python 3.8.2 64-bit"
  }
 },
 "nbformat": 4,
 "nbformat_minor": 2,
 "cells": [
  {
   "cell_type": "code",
   "execution_count": 4,
   "metadata": {},
   "outputs": [],
   "source": [
    "import numpy as np\n",
    "import pandas as pd\n",
    "import tensorflow as tf\n",
    "import autokeras as ak"
   ]
  },
  {
   "cell_type": "code",
   "execution_count": 5,
   "metadata": {},
   "outputs": [],
   "source": [
    "from TM1py import TM1Service"
   ]
  },
  {
   "cell_type": "code",
   "execution_count": 28,
   "metadata": {},
   "outputs": [],
   "source": [
    "with TM1Service(address=\"xxx.xxx.xxx.xxx\", port=16333, user=\"admin\", password=\"apple\", ssl=True) as tm1:\n",
    "    data = tm1.power_bi.execute_view(cube_name=\"Revenue\", view_name=\"h2o_gross_revenue_prediction\", private=False)"
   ]
  },
  {
   "cell_type": "code",
   "execution_count": 16,
   "metadata": {},
   "outputs": [],
   "source": [
    "from sklearn import preprocessing"
   ]
  },
  {
   "cell_type": "code",
   "execution_count": 20,
   "metadata": {},
   "outputs": [],
   "source": [
    "le = preprocessing.LabelEncoder()\n",
    "le.fit(data[\"Year\"])\n",
    "data[\"Year\"] = le.transform(data[\"Year\"])"
   ]
  },
  {
   "cell_type": "code",
   "execution_count": 21,
   "metadata": {},
   "outputs": [],
   "source": [
    "le = preprocessing.LabelEncoder()\n",
    "le.fit(data[\"Month\"])\n",
    "data[\"Month\"] = le.transform(data[\"Month\"])"
   ]
  },
  {
   "cell_type": "code",
   "execution_count": 29,
   "metadata": {},
   "outputs": [
    {
     "output_type": "execute_result",
     "data": {
      "text/plain": "      product Channel organization Year Month Unit Price Units Sold  \\\n0       21002      10          101   Y1   Jan       70.0     271.94   \n1       21002      10          101   Y1   Feb       70.0     271.94   \n2       21002      10          101   Y1   Mar       70.0     271.94   \n3       21002      10          101   Y1   Apr       70.0     271.94   \n4       21002      10          101   Y1   May       70.0     271.94   \n...       ...     ...          ...  ...   ...        ...        ...   \n21613   42003      30          403   Y3   Aug      320.0       13.0   \n21614   42003      30          403   Y3   Sep      320.0       13.0   \n21615   42003      30          403   Y3   Oct      320.0       13.0   \n21616   42003      30          403   Y3   Nov      320.0       13.0   \n21617   42003      30          403   Y3   Dec      320.0       13.0   \n\n                Unit Cost  \n0      47.043099999999995  \n1      47.043099999999995  \n2      47.043099999999995  \n3      47.043099999999995  \n4      47.043099999999995  \n...                   ...  \n21613                 0.0  \n21614                 0.0  \n21615                 0.0  \n21616                 0.0  \n21617                 0.0  \n\n[21618 rows x 8 columns]",
      "text/html": "<div>\n<style scoped>\n    .dataframe tbody tr th:only-of-type {\n        vertical-align: middle;\n    }\n\n    .dataframe tbody tr th {\n        vertical-align: top;\n    }\n\n    .dataframe thead th {\n        text-align: right;\n    }\n</style>\n<table border=\"1\" class=\"dataframe\">\n  <thead>\n    <tr style=\"text-align: right;\">\n      <th></th>\n      <th>product</th>\n      <th>Channel</th>\n      <th>organization</th>\n      <th>Year</th>\n      <th>Month</th>\n      <th>Unit Price</th>\n      <th>Units Sold</th>\n      <th>Unit Cost</th>\n    </tr>\n  </thead>\n  <tbody>\n    <tr>\n      <th>0</th>\n      <td>21002</td>\n      <td>10</td>\n      <td>101</td>\n      <td>Y1</td>\n      <td>Jan</td>\n      <td>70.0</td>\n      <td>271.94</td>\n      <td>47.043099999999995</td>\n    </tr>\n    <tr>\n      <th>1</th>\n      <td>21002</td>\n      <td>10</td>\n      <td>101</td>\n      <td>Y1</td>\n      <td>Feb</td>\n      <td>70.0</td>\n      <td>271.94</td>\n      <td>47.043099999999995</td>\n    </tr>\n    <tr>\n      <th>2</th>\n      <td>21002</td>\n      <td>10</td>\n      <td>101</td>\n      <td>Y1</td>\n      <td>Mar</td>\n      <td>70.0</td>\n      <td>271.94</td>\n      <td>47.043099999999995</td>\n    </tr>\n    <tr>\n      <th>3</th>\n      <td>21002</td>\n      <td>10</td>\n      <td>101</td>\n      <td>Y1</td>\n      <td>Apr</td>\n      <td>70.0</td>\n      <td>271.94</td>\n      <td>47.043099999999995</td>\n    </tr>\n    <tr>\n      <th>4</th>\n      <td>21002</td>\n      <td>10</td>\n      <td>101</td>\n      <td>Y1</td>\n      <td>May</td>\n      <td>70.0</td>\n      <td>271.94</td>\n      <td>47.043099999999995</td>\n    </tr>\n    <tr>\n      <th>...</th>\n      <td>...</td>\n      <td>...</td>\n      <td>...</td>\n      <td>...</td>\n      <td>...</td>\n      <td>...</td>\n      <td>...</td>\n      <td>...</td>\n    </tr>\n    <tr>\n      <th>21613</th>\n      <td>42003</td>\n      <td>30</td>\n      <td>403</td>\n      <td>Y3</td>\n      <td>Aug</td>\n      <td>320.0</td>\n      <td>13.0</td>\n      <td>0.0</td>\n    </tr>\n    <tr>\n      <th>21614</th>\n      <td>42003</td>\n      <td>30</td>\n      <td>403</td>\n      <td>Y3</td>\n      <td>Sep</td>\n      <td>320.0</td>\n      <td>13.0</td>\n      <td>0.0</td>\n    </tr>\n    <tr>\n      <th>21615</th>\n      <td>42003</td>\n      <td>30</td>\n      <td>403</td>\n      <td>Y3</td>\n      <td>Oct</td>\n      <td>320.0</td>\n      <td>13.0</td>\n      <td>0.0</td>\n    </tr>\n    <tr>\n      <th>21616</th>\n      <td>42003</td>\n      <td>30</td>\n      <td>403</td>\n      <td>Y3</td>\n      <td>Nov</td>\n      <td>320.0</td>\n      <td>13.0</td>\n      <td>0.0</td>\n    </tr>\n    <tr>\n      <th>21617</th>\n      <td>42003</td>\n      <td>30</td>\n      <td>403</td>\n      <td>Y3</td>\n      <td>Dec</td>\n      <td>320.0</td>\n      <td>13.0</td>\n      <td>0.0</td>\n    </tr>\n  </tbody>\n</table>\n<p>21618 rows × 8 columns</p>\n</div>"
     },
     "metadata": {},
     "execution_count": 29
    }
   ],
   "source": [
    "data"
   ]
  },
  {
   "cell_type": "code",
   "execution_count": 30,
   "metadata": {},
   "outputs": [],
   "source": [
    "train_size = int(data.shape[0] * 0.9)\n",
    "data[:train_size].to_csv('train.csv', index=False)\n",
    "data[train_size:].to_csv('eval.csv', index=False)\n",
    "train_file_path = 'train.csv'\n",
    "test_file_path = 'eval.csv'"
   ]
  },
  {
   "cell_type": "code",
   "execution_count": 31,
   "metadata": {},
   "outputs": [
    {
     "output_type": "execute_result",
     "data": {
      "text/plain": "19456"
     },
     "metadata": {},
     "execution_count": 31
    }
   ],
   "source": [
    "train_size"
   ]
  },
  {
   "cell_type": "code",
   "execution_count": 32,
   "metadata": {
    "tags": []
   },
   "outputs": [
    {
     "output_type": "stream",
     "name": "stdout",
     "text": "Trial 4 Complete [00h 00m 12s]\nval_loss: 528.6915893554688\n\nBest val_loss So Far: 528.6915893554688\nTotal elapsed time: 00h 00m 45s\nINFO:tensorflow:Oracle triggered exit\nEpoch 1/20\n608/608 [==============================] - 1s 1ms/step - loss: 3056.1045 - mean_squared_error: 3056.1045\nEpoch 2/20\n608/608 [==============================] - 1s 1ms/step - loss: 2566.6926 - mean_squared_error: 2566.6926\nEpoch 3/20\n608/608 [==============================] - 1s 1ms/step - loss: 2522.0537 - mean_squared_error: 2522.0537\nEpoch 4/20\n608/608 [==============================] - 1s 1ms/step - loss: 2501.5632 - mean_squared_error: 2501.5632\nEpoch 5/20\n608/608 [==============================] - 1s 1ms/step - loss: 2494.4998 - mean_squared_error: 2494.4998\nEpoch 6/20\n608/608 [==============================] - 1s 1ms/step - loss: 2487.9465 - mean_squared_error: 2487.9465\nEpoch 7/20\n608/608 [==============================] - 1s 1ms/step - loss: 2484.4280 - mean_squared_error: 2484.4280\nEpoch 8/20\n608/608 [==============================] - 1s 1ms/step - loss: 2475.0754 - mean_squared_error: 2475.0754\nEpoch 9/20\n608/608 [==============================] - 1s 1ms/step - loss: 2467.6160 - mean_squared_error: 2467.6160\nEpoch 10/20\n608/608 [==============================] - 1s 1ms/step - loss: 2462.0339 - mean_squared_error: 2462.0339\nEpoch 11/20\n608/608 [==============================] - 1s 1ms/step - loss: 2459.8818 - mean_squared_error: 2459.8818\nEpoch 12/20\n608/608 [==============================] - 1s 1ms/step - loss: 2462.6475 - mean_squared_error: 2462.6475\nEpoch 13/20\n608/608 [==============================] - 1s 1ms/step - loss: 2459.6179 - mean_squared_error: 2459.6179\nEpoch 14/20\n608/608 [==============================] - 1s 1ms/step - loss: 2461.0195 - mean_squared_error: 2461.0195\nEpoch 15/20\n608/608 [==============================] - 1s 1ms/step - loss: 2453.2246 - mean_squared_error: 2453.2246\nEpoch 16/20\n608/608 [==============================] - 1s 1ms/step - loss: 2451.1487 - mean_squared_error: 2451.1487\nEpoch 17/20\n608/608 [==============================] - 1s 1ms/step - loss: 2442.4253 - mean_squared_error: 2442.4253\nEpoch 18/20\n608/608 [==============================] - 1s 1ms/step - loss: 2448.0415 - mean_squared_error: 2448.0415\nEpoch 19/20\n608/608 [==============================] - 1s 1ms/step - loss: 2444.3093 - mean_squared_error: 2444.3093\nEpoch 20/20\n608/608 [==============================] - 1s 1ms/step - loss: 2440.8311 - mean_squared_error: 2440.8311\n"
    }
   ],
   "source": [
    "# Initialize the structured data regressor.\n",
    "reg = ak.StructuredDataRegressor(\n",
    "    overwrite=True,\n",
    "    max_trials=4) # It tries 10 different models.\n",
    "# Feed the structured data regressor with training data.\n",
    "reg.fit(\n",
    "    # The path to the train.csv file.\n",
    "    train_file_path,\n",
    "    # The name of the label column.\n",
    "    'Units Sold',\n",
    "    epochs=20)"
   ]
  },
  {
   "cell_type": "code",
   "execution_count": 33,
   "metadata": {},
   "outputs": [],
   "source": [
    "# Predict with the best model.\n",
    "predicted_y = reg.predict(test_file_path)"
   ]
  },
  {
   "cell_type": "code",
   "execution_count": 34,
   "metadata": {
    "tags": []
   },
   "outputs": [
    {
     "output_type": "stream",
     "name": "stdout",
     "text": "WARNING:tensorflow:Unresolved object in checkpoint: (root).optimizer.iter\nWARNING:tensorflow:Unresolved object in checkpoint: (root).optimizer.beta_1\nWARNING:tensorflow:Unresolved object in checkpoint: (root).optimizer.beta_2\nWARNING:tensorflow:Unresolved object in checkpoint: (root).optimizer.decay\nWARNING:tensorflow:Unresolved object in checkpoint: (root).optimizer.learning_rate\nWARNING:tensorflow:A checkpoint was restored (e.g. tf.train.Checkpoint.restore or tf.keras.Model.load_weights) but not all checkpointed values were used. See above for specific issues. Use expect_partial() on the load status object, e.g. tf.train.Checkpoint.restore(...).expect_partial(), to silence these warnings, or use assert_consumed() to make the check explicit. See https://www.tensorflow.org/guide/checkpoint#loading_mechanics for details.\n68/68 [==============================] - 0s 652us/step - loss: 621.9655 - mean_squared_error: 621.9655\n[621.9654541015625, 621.9654541015625]\n"
    }
   ],
   "source": [
    "# Evaluate the best model with testing data.\n",
    "print(reg.evaluate(test_file_path, 'Units Sold'))"
   ]
  },
  {
   "cell_type": "code",
   "execution_count": 14,
   "metadata": {},
   "outputs": [
    {
     "output_type": "execute_result",
     "data": {
      "text/plain": "array([[13.016721],\n       [13.972049],\n       [28.356125],\n       ...,\n       [19.356752],\n       [19.5629  ],\n       [19.689722]], dtype=float32)"
     },
     "metadata": {},
     "execution_count": 14
    }
   ],
   "source": [
    "predicted_y"
   ]
  },
  {
   "cell_type": "code",
   "execution_count": null,
   "metadata": {},
   "outputs": [],
   "source": []
  }
 ]
}